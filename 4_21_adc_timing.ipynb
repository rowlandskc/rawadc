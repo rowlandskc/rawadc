{
 "cells": [
  {
   "cell_type": "code",
   "execution_count": 1,
   "id": "55fe09cb",
   "metadata": {},
   "outputs": [],
   "source": [
    "### import necessary packages ###\n",
    "import matplotlib.pylab as plt  ##plotting \n",
    "from rawice import *            ##all modules from rawice.py\n",
    "import warnings\n",
    "import numpy as np\n",
    "import os\n",
    "\n",
    "warnings.filterwarnings('ignore')"
   ]
  },
  {
   "cell_type": "code",
   "execution_count": 2,
   "id": "10005efd",
   "metadata": {},
   "outputs": [
    {
     "name": "stdout",
     "output_type": "stream",
     "text": [
      "/Users/rowlandskc/WVU/rawadc/\n",
      "Loaded raw acq HDF5 file ... \n"
     ]
    }
   ],
   "source": [
    "## location of raw acq data\n",
    "notebook_path = os.path.abspath(\"4_21_adc_timing.ipyn\")\n",
    "folder_path = os.path.join(os.path.dirname(notebook_path), \"rawadc/\")\n",
    "print(folder_path)\n",
    "path = os.path.join(os.path.dirname(notebook_path), \"rawadc/000058.h5\")\n",
    "\n",
    "#path = \"/Users/rowlandskc/WVU/rawadc/000040.h5\"\n",
    "#folder_path = \"/Users/rowlandskc/WVU/rawadc\"\n",
    "\n",
    "## File 000006 is bad for some reason\n",
    "\n",
    "## load data from file to object 'acq'\n",
    "\n",
    "acq = raw_acq(path)\n",
    "\n",
    "#help(raw_acq)\n",
    "\n",
    "acq.adc_input\n",
    "\n",
    "#set the input \n",
    "tm4_input = [0,15,12]\n",
    "#tm4_input2 = [0,15,0]\n",
    "#tm5101_input = [0,0,3]\n",
    "#print(np.sort(glob.glob(\"/Users/rowlandskc/WVU/rawadc_updated/000000.h5\")))\n",
    "#r=raw_acq(np.sort(glob.glob(\"/Users/rowlandskc/WVU/rawadc_updated/000000.h5\")))"
   ]
  },
  {
   "cell_type": "code",
   "execution_count": 3,
   "id": "6bfbf24e",
   "metadata": {},
   "outputs": [],
   "source": [
    "#tm4 = acq.check_input(tm4_input)\n",
    "#tm4.inspect_maser()\n",
    "\n",
    "#tm4.plot_single_input_diagnostics()\n",
    "\n",
    "#use\n",
    "#fig, ax = plt.subplots(figsize=(20, 10))\n",
    "#plt.plot(tm4.time_streams[0])\n",
    "\n",
    "#tm4b = acq.check_input(tm4_input2)\n",
    "#tm4b.inspect_maser()\n",
    "#fig, ax =plt.subplots(figsize=(20,10))\n",
    "#plt.plot(tm4b.time_streams[0])"
   ]
  },
  {
   "cell_type": "code",
   "execution_count": 4,
   "id": "44817c2a",
   "metadata": {
    "scrolled": true
   },
   "outputs": [],
   "source": [
    "#useful\n",
    "#tm4.get_timestream_for_input()"
   ]
  },
  {
   "cell_type": "code",
   "execution_count": 5,
   "id": "f4d3c1a6",
   "metadata": {},
   "outputs": [],
   "source": [
    "#tm4.time_stamps"
   ]
  },
  {
   "cell_type": "code",
   "execution_count": 6,
   "id": "ad598d65",
   "metadata": {},
   "outputs": [],
   "source": [
    "#useful just speeding stuff up\n",
    "#tm4_clock = analyse_maser(folder_path, tm4_input)"
   ]
  },
  {
   "cell_type": "code",
   "execution_count": 7,
   "id": "81374ef4",
   "metadata": {},
   "outputs": [],
   "source": [
    "#files = glob.glob(folder_path + \"*[!.lock]\")"
   ]
  },
  {
   "cell_type": "code",
   "execution_count": 8,
   "id": "cbc129c2",
   "metadata": {},
   "outputs": [],
   "source": [
    "#files"
   ]
  },
  {
   "cell_type": "code",
   "execution_count": 9,
   "id": "8aab62a5",
   "metadata": {},
   "outputs": [],
   "source": [
    "#folder_path"
   ]
  },
  {
   "cell_type": "code",
   "execution_count": 10,
   "id": "b32962ec",
   "metadata": {
    "scrolled": true
   },
   "outputs": [],
   "source": [
    "#useful, just speeding stuff up\n",
    "#tm4_delays = tm4_clock.plot_delays()\n",
    "#plt.savefig(\"maser_all_delays.pdf\", format=\"pdf\")"
   ]
  },
  {
   "cell_type": "code",
   "execution_count": 11,
   "id": "1688f595",
   "metadata": {},
   "outputs": [],
   "source": [
    "#allanplot = tm4_clock.get_allan_deviation()\n",
    "#plt.savefig(\"maser_Allan_deviation.pdf\", format=\"pdf\")"
   ]
  },
  {
   "cell_type": "markdown",
   "id": "bd3bc601",
   "metadata": {},
   "source": [
    "Recreate automation test"
   ]
  },
  {
   "cell_type": "code",
   "execution_count": 12,
   "id": "36cfbe5b",
   "metadata": {},
   "outputs": [
    {
     "name": "stdout",
     "output_type": "stream",
     "text": [
      "raw ACQ diagnostics ... \n",
      "\n",
      "file_name: /home/masuilab/data/raw_acq/20230421T200042Z_frb_rawadc/000058.h5\n",
      "rawadc_version: 0.1\n",
      "\n",
      "ctime Timestamp of first raw_adc frame: 2023-05-02T04:42:19.047822\n",
      "ctime Timestamp of last raw_adc frame: 2023-05-02T09:03:33.035962\n",
      "\n",
      "Time between raw_adc captures is either [ 1.  2.  3.  4.  5.  6.  7.  8.  9. 10. 11. 12. 13. 14. 15. 16.] seconds\n",
      "good_fpga len: 512\n",
      "len time_since_capture: 510\n"
     ]
    },
    {
     "data": {
      "image/png": "[encoded data removed]",
      "text/plain": [
       "<Figure size 1500x300 with 1 Axes>"
      ]
     },
     "metadata": {},
     "output_type": "display_data"
    }
   ],
   "source": [
    "#data=acq.read_raw_adc_aro(path) not working idk why\n",
    "#acq.chime_rawadc_reader.get_adc_input(acq,0,15,12)\n",
    "#tm4.plot_single_input_diagnostics(tm4_input)\n",
    "acq.diagostics()"
   ]
  },
  {
   "cell_type": "code",
   "execution_count": null,
   "id": "9a65ec0d",
   "metadata": {},
   "outputs": [],
   "source": []
  },
  {
   "cell_type": "code",
   "execution_count": null,
   "id": "dba084d3",
   "metadata": {},
   "outputs": [],
   "source": []
  },
  {
   "cell_type": "code",
   "execution_count": null,
   "id": "b59ec1e2",
   "metadata": {},
   "outputs": [],
   "source": [
    "\n",
    "\n",
    "\n",
    "\n"
   ]
  },
  {
   "cell_type": "code",
   "execution_count": null,
   "id": "a3fddf0a",
   "metadata": {},
   "outputs": [],
   "source": []
  }
 ],
 "metadata": {
  "kernelspec": {
   "display_name": "Python 3 (ipykernel)",
   "language": "python",
   "name": "python3"
  },
  "language_info": {
   "codemirror_mode": {
    "name": "ipython",
    "version": 3
   },
   "file_extension": ".py",
   "mimetype": "text/x-python",
   "name": "python",
   "nbconvert_exporter": "python",
   "pygments_lexer": "ipython3",
   "version": "3.10.9"
  }
 },
 "nbformat": 4,
 "nbformat_minor": 5
}
