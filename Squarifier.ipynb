{
 "cells": [
  {
   "cell_type": "code",
   "execution_count": 1,
   "id": "fa63b33d",
   "metadata": {},
   "outputs": [],
   "source": [
    "### import necessary packages ###\n",
    "#%matplotlib notebook\n",
    "import matplotlib.pylab as plt  ##plotting \n",
    "from rawice import *            ##all modules from rawice.py\n",
    "import warnings\n",
    "import numpy as np\n",
    "import os\n",
    "from scipy.optimize import curve_fit\n",
    "\n",
    "warnings.filterwarnings('ignore')"
   ]
  },
  {
   "cell_type": "code",
   "execution_count": 2,
   "id": "280b289e",
   "metadata": {},
   "outputs": [
    {
     "name": "stdout",
     "output_type": "stream",
     "text": [
      "/Users/rowlandskc/WVU/squarifier/\n",
      "Loaded raw acq HDF5 file ... \r\n"
     ]
    }
   ],
   "source": [
    "## location of raw acq data\n",
    "notebook_path = os.path.abspath(\"Squarifier.ipyn\")\n",
    "folder_path = os.path.join(os.path.dirname(notebook_path), \"squarifier/\")\n",
    "print(folder_path)\n",
    "path = os.path.join(os.path.dirname(notebook_path), \"squarifier/000000\")\n",
    "\n",
    "#path = \"/Users/rowlandskc/WVU/rawadc/000040.h5\"\n",
    "#folder_path = \"/Users/rowlandskc/WVU/rawadc\"\n",
    "\n",
    "\n",
    "\n",
    "## load data from file to object 'acq'\n",
    "acq = raw_acq(path)\n",
    "#help(raw_acq)\n",
    "acq.adc_input\n",
    "\n",
    "#set the input \n",
    "tm4_input = [0,15,12]"
   ]
  },
  {
   "cell_type": "code",
   "execution_count": 3,
   "id": "a0c346e5",
   "metadata": {},
   "outputs": [
    {
     "name": "stdout",
     "output_type": "stream",
     "text": [
      "Checking input [0, 15, 12] ... \r\n"
     ]
    }
   ],
   "source": [
    "tm4 = acq.check_input(tm4_input)\n",
    "#tm4.inspect_maser()"
   ]
  },
  {
   "cell_type": "code",
   "execution_count": 4,
   "id": "fd8508f3",
   "metadata": {},
   "outputs": [
    {
     "ename": "IndexError",
     "evalue": "index 0 is out of bounds for axis 0 with size 0",
     "output_type": "error",
     "traceback": [
      "\u001b[0;31m---------------------------------------------------------------------------\u001b[0m",
      "\u001b[0;31mIndexError\u001b[0m                                Traceback (most recent call last)",
      "Cell \u001b[0;32mIn[4], line 1\u001b[0m\n\u001b[0;32m----> 1\u001b[0m \u001b[43mtm4\u001b[49m\u001b[38;5;241;43m.\u001b[39;49m\u001b[43mget_curve_fit\u001b[49m\u001b[43m(\u001b[49m\u001b[43m)\u001b[49m\n",
      "File \u001b[0;32m~/WVU/rawice.py:439\u001b[0m, in \u001b[0;36mraw_acq.check_input.get_curve_fit\u001b[0;34m(single_input)\u001b[0m\n\u001b[1;32m    435\u001b[0m \u001b[38;5;66;03m#change the names so they make sense phase_err -> tau_err\u001b[39;00m\n\u001b[1;32m    437\u001b[0m \u001b[38;5;28;01mfor\u001b[39;00m i \u001b[38;5;129;01min\u001b[39;00m \u001b[38;5;28mrange\u001b[39m(\u001b[38;5;241m2048\u001b[39m):\n\u001b[1;32m    438\u001b[0m     \u001b[38;5;66;03m#get each timestream for fitting\u001b[39;00m\n\u001b[0;32m--> 439\u001b[0m     ylist \u001b[38;5;241m=\u001b[39m \u001b[43msingle_input\u001b[49m\u001b[38;5;241;43m.\u001b[39;49m\u001b[43mtime_streams\u001b[49m\u001b[43m[\u001b[49m\u001b[43mi\u001b[49m\u001b[43m]\u001b[49m\n\u001b[1;32m    440\u001b[0m     xlist \u001b[38;5;241m=\u001b[39m [val \u001b[38;5;28;01mfor\u001b[39;00m val \u001b[38;5;129;01min\u001b[39;00m \u001b[38;5;28mrange\u001b[39m(\u001b[38;5;241m0\u001b[39m\u001b[38;5;241m+\u001b[39m\u001b[38;5;241m1\u001b[39m, \u001b[38;5;28mlen\u001b[39m(xlist)\u001b[38;5;241m+\u001b[39m\u001b[38;5;241m1\u001b[39m)]\n\u001b[1;32m    441\u001b[0m     yerror \u001b[38;5;241m=\u001b[39m np\u001b[38;5;241m.\u001b[39mones(\u001b[38;5;28mlen\u001b[39m(xlist)) \u001b[38;5;241m*\u001b[39m \u001b[38;5;241m1\u001b[39m\u001b[38;5;241m/\u001b[39mnp\u001b[38;5;241m.\u001b[39msqrt(\u001b[38;5;241m12\u001b[39m)\n",
      "\u001b[0;31mIndexError\u001b[0m: index 0 is out of bounds for axis 0 with size 0"
     ]
    }
   ],
   "source": [
    "tm4.get_curve_fit()"
   ]
  },
  {
   "cell_type": "markdown",
   "id": "e47d81b7",
   "metadata": {},
   "source": [
    "should take around 35 minutes if the time to process it is the same as 487 length"
   ]
  },
  {
   "cell_type": "code",
   "execution_count": null,
   "id": "69048977",
   "metadata": {},
   "outputs": [],
   "source": [
    "tm4.get_single_curve_fit(i=0)"
   ]
  },
  {
   "cell_type": "code",
   "execution_count": null,
   "id": "b29fa49e",
   "metadata": {},
   "outputs": [],
   "source": [
    "tm4_clock = analyse_maser(folder_path, tm4_input)"
   ]
  },
  {
   "cell_type": "code",
   "execution_count": null,
   "id": "09af9e7b",
   "metadata": {},
   "outputs": [],
   "source": [
    "tm4_clock.plot_delays()\n",
    "#plt.savefig(\"6_22_23_maser_delays.pdf\", format=\"pdf\")"
   ]
  },
  {
   "cell_type": "code",
   "execution_count": null,
   "id": "00160674",
   "metadata": {},
   "outputs": [],
   "source": [
    "xlist = [val for val in range(0+1, 65536)]#used to be 2049\n",
    "\n",
    "xval = [(val*(1.25e-9)/60/60) for val in xlist]\n",
    "\n",
    "fig, ax = plt.subplots(figsize=(20,10))      #HEY LOOK AT THIS!!!!\n",
    "#[:512] before\n",
    "plt.plot(tm4_clock.fpgatime[:65536]*2.56e-6/60/60, 10e8*((tm4_clock.taus[:65536])-tm4_clock.taus[0]), c = 'silver', ls=\"--\")#, marker = ','\n",
    "ax.errorbar(tm4_clock.fpgatime[:65536]*2.56e-6/60/60, (np.array(tm4.tau_shift[:65536])-tm4.tau_shift[0]), yerr=tm4.tau_err[:65536], fmt=',', ecolor='red')\n",
    "ax.set_title('Tau shift')\n",
    "plt.xlabel(\"Hours\")\n",
    "plt.ylabel(r\" $\\Delta(\\tau)$ (ns)\")\n",
    "#plt.savefig(\"Maser_tau_shift.pdf\", format=\"pdf\")"
   ]
  },
  {
   "cell_type": "code",
   "execution_count": null,
   "id": "585a667c",
   "metadata": {},
   "outputs": [],
   "source": [
    "#tm4_clock.taus"
   ]
  },
  {
   "cell_type": "code",
   "execution_count": null,
   "id": "92ae1932",
   "metadata": {},
   "outputs": [],
   "source": [
    "#tm4.tau_shift"
   ]
  },
  {
   "cell_type": "code",
   "execution_count": null,
   "id": "fb22a34c",
   "metadata": {},
   "outputs": [],
   "source": []
  },
  {
   "cell_type": "code",
   "execution_count": null,
   "id": "4523caa2",
   "metadata": {},
   "outputs": [],
   "source": []
  },
  {
   "cell_type": "code",
   "execution_count": null,
   "id": "8095a8fc",
   "metadata": {},
   "outputs": [],
   "source": []
  },
  {
   "cell_type": "code",
   "execution_count": null,
   "id": "a3a1322b",
   "metadata": {},
   "outputs": [],
   "source": []
  }
 ],
 "metadata": {
  "kernelspec": {
   "display_name": "Python 3 (ipykernel)",
   "language": "python",
   "name": "python3"
  },
  "language_info": {
   "codemirror_mode": {
    "name": "ipython",
    "version": 3
   },
   "file_extension": ".py",
   "mimetype": "text/x-python",
   "name": "python",
   "nbconvert_exporter": "python",
   "pygments_lexer": "ipython3",
   "version": "3.10.9"
  }
 },
 "nbformat": 4,
 "nbformat_minor": 5
}
